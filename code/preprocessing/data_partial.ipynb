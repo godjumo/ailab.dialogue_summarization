{
 "cells": [
  {
   "cell_type": "code",
   "execution_count": 2,
   "metadata": {},
   "outputs": [],
   "source": [
    "import pandas as pd\n",
    "import matplotlib.pyplot as plt\n",
    "import seaborn as sns"
   ]
  },
  {
   "cell_type": "code",
   "execution_count": 3,
   "metadata": {},
   "outputs": [],
   "source": [
    "train_path = \"../../data/train.csv\"\n",
    "df_train = pd.read_csv(train_path)"
   ]
  },
  {
   "cell_type": "code",
   "execution_count": 3,
   "metadata": {},
   "outputs": [],
   "source": [
    "with open(\"train.txt\", \"a+\") as f :\n",
    "    for index in range(len(df_train)):\n",
    "        topic = df_train[\"topic\"][index]\n",
    "        dialog = df_train[\"dialogue\"][index]\n",
    "        summary = df_train[\"summary\"][index]\n",
    "        f.write(f\"Data # {index:05}\")\n",
    "        f.write(\"\\n\\n== Topic ==\\n\\n\")\n",
    "        f.write(topic)\n",
    "        f.write(\"\\n\\n== Dialog ==\\n\\n\")\n",
    "        f.write(dialog)\n",
    "        f.write(\"\\n\\n== Summary ==\\n\\n\")\n",
    "        f.write(summary)\n",
    "        f.write(\"\\n\\n\")"
   ]
  },
  {
   "cell_type": "code",
   "execution_count": 4,
   "metadata": {},
   "outputs": [
    {
     "data": {
      "text/plain": [
       "6228"
      ]
     },
     "execution_count": 4,
     "metadata": {},
     "output_type": "execute_result"
    }
   ],
   "source": [
    "len(df_train)//2"
   ]
  },
  {
   "cell_type": "code",
   "execution_count": 5,
   "metadata": {},
   "outputs": [],
   "source": [
    "with open(\"train_part1.txt\", \"a+\") as f :\n",
    "    for index in range(len(df_train)//2):\n",
    "        topic = df_train[\"topic\"][index]\n",
    "        dialog = df_train[\"dialogue\"][index]\n",
    "        summary = df_train[\"summary\"][index]\n",
    "        f.write(f\"Data # {index:05}\")\n",
    "        f.write(\"\\n\\n== Topic ==\\n\\n\")\n",
    "        f.write(topic)\n",
    "        f.write(\"\\n\\n== Dialog ==\\n\\n\")\n",
    "        f.write(dialog)\n",
    "        f.write(\"\\n\\n== Summary ==\\n\\n\")\n",
    "        f.write(summary)\n",
    "        f.write(\"\\n\\n\")\n",
    "with open(\"train_part2.txt\", \"a+\") as f :\n",
    "    for index in range(len(df_train)//2, len(df_train)):\n",
    "        topic = df_train[\"topic\"][index]\n",
    "        dialog = df_train[\"dialogue\"][index]\n",
    "        summary = df_train[\"summary\"][index]\n",
    "        f.write(f\"Data # {index:05}\")\n",
    "        f.write(\"\\n\\n== Topic ==\\n\\n\")\n",
    "        f.write(topic)\n",
    "        f.write(\"\\n\\n== Dialog ==\\n\\n\")\n",
    "        f.write(dialog)\n",
    "        f.write(\"\\n\\n== Summary ==\\n\\n\")\n",
    "        f.write(summary)\n",
    "        f.write(\"\\n\\n\")"
   ]
  }
 ],
 "metadata": {
  "kernelspec": {
   "display_name": "base",
   "language": "python",
   "name": "python3"
  },
  "language_info": {
   "codemirror_mode": {
    "name": "ipython",
    "version": 3
   },
   "file_extension": ".py",
   "mimetype": "text/x-python",
   "name": "python",
   "nbconvert_exporter": "python",
   "pygments_lexer": "ipython3",
   "version": "3.10.13"
  }
 },
 "nbformat": 4,
 "nbformat_minor": 2
}
